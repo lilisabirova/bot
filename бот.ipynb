{
  "nbformat": 4,
  "nbformat_minor": 0,
  "metadata": {
    "colab": {
      "provenance": []
    },
    "kernelspec": {
      "name": "python3",
      "display_name": "Python 3"
    },
    "language_info": {
      "name": "python"
    }
  },
  "cells": [
    {
      "cell_type": "code",
      "execution_count": 1,
      "metadata": {
        "colab": {
          "base_uri": "https://localhost:8080/"
        },
        "id": "IvpgT0lgO-3w",
        "outputId": "838a4a44-1f10-47e5-a343-a27586366edd"
      },
      "outputs": [
        {
          "output_type": "stream",
          "name": "stdout",
          "text": [
            "Collecting pyTelegramBotAPI\n",
            "  Downloading pytelegrambotapi-4.16.1-py3-none-any.whl (232 kB)\n",
            "\u001b[?25l     \u001b[90m━━━━━━━━━━━━━━━━━━━━━━━━━━━━━━━━━━━━━━━━\u001b[0m \u001b[32m0.0/232.2 kB\u001b[0m \u001b[31m?\u001b[0m eta \u001b[36m-:--:--\u001b[0m\r\u001b[2K     \u001b[91m━━━━━━━━━━━━━━\u001b[0m\u001b[90m╺\u001b[0m\u001b[90m━━━━━━━━━━━━━━━━━━━━━━━━━\u001b[0m \u001b[32m81.9/232.2 kB\u001b[0m \u001b[31m2.3 MB/s\u001b[0m eta \u001b[36m0:00:01\u001b[0m\r\u001b[2K     \u001b[90m━━━━━━━━━━━━━━━━━━━━━━━━━━━━━━━━━━━━━━━━\u001b[0m \u001b[32m232.2/232.2 kB\u001b[0m \u001b[31m3.4 MB/s\u001b[0m eta \u001b[36m0:00:00\u001b[0m\n",
            "\u001b[?25hRequirement already satisfied: requests in /usr/local/lib/python3.10/dist-packages (from pyTelegramBotAPI) (2.31.0)\n",
            "Requirement already satisfied: charset-normalizer<4,>=2 in /usr/local/lib/python3.10/dist-packages (from requests->pyTelegramBotAPI) (3.3.2)\n",
            "Requirement already satisfied: idna<4,>=2.5 in /usr/local/lib/python3.10/dist-packages (from requests->pyTelegramBotAPI) (3.6)\n",
            "Requirement already satisfied: urllib3<3,>=1.21.1 in /usr/local/lib/python3.10/dist-packages (from requests->pyTelegramBotAPI) (2.0.7)\n",
            "Requirement already satisfied: certifi>=2017.4.17 in /usr/local/lib/python3.10/dist-packages (from requests->pyTelegramBotAPI) (2024.2.2)\n",
            "Installing collected packages: pyTelegramBotAPI\n",
            "Successfully installed pyTelegramBotAPI-4.16.1\n"
          ]
        }
      ],
      "source": [
        "!pip install pyTelegramBotAPI"
      ]
    },
    {
      "cell_type": "code",
      "source": [
        "!pip install Faker"
      ],
      "metadata": {
        "colab": {
          "base_uri": "https://localhost:8080/"
        },
        "id": "2vMyjOTfRYhc",
        "outputId": "896eef61-6711-420b-9ccb-4daa1475788e"
      },
      "execution_count": 4,
      "outputs": [
        {
          "output_type": "stream",
          "name": "stdout",
          "text": [
            "Collecting Faker\n",
            "  Downloading Faker-24.2.0-py3-none-any.whl (1.8 MB)\n",
            "\u001b[2K     \u001b[90m━━━━━━━━━━━━━━━━━━━━━━━━━━━━━━━━━━━━━━━━\u001b[0m \u001b[32m1.8/1.8 MB\u001b[0m \u001b[31m7.8 MB/s\u001b[0m eta \u001b[36m0:00:00\u001b[0m\n",
            "\u001b[?25hRequirement already satisfied: python-dateutil>=2.4 in /usr/local/lib/python3.10/dist-packages (from Faker) (2.8.2)\n",
            "Requirement already satisfied: six>=1.5 in /usr/local/lib/python3.10/dist-packages (from python-dateutil>=2.4->Faker) (1.16.0)\n",
            "Installing collected packages: Faker\n",
            "Successfully installed Faker-24.2.0\n"
          ]
        }
      ]
    },
    {
      "cell_type": "code",
      "source": [
        "# подключение библиотек\n",
        "import json\n",
        "from secrets import token_urlsafe\n",
        "\n",
        "from faker import Faker\n",
        "from telebot import TeleBot, types\n",
        "\n",
        "# TODO: вставить свой токен\n",
        "TOKEN = '...'\n",
        "bot = TeleBot(TOKEN, parse_mode='html')\n",
        "# библиотека для генерации тестовых ФИО\n",
        "# указываем язык - русский\n",
        "faker = Faker('ru_RU')\n",
        "\n",
        "# объект клавиаутры\n",
        "main_menu_reply_markup = types.ReplyKeyboardMarkup(resize_keyboard=True)\n",
        "# первый ряд кнопок\n",
        "main_menu_reply_markup.row(\n",
        "    types.KeyboardButton(text=\"1️⃣\"), types.KeyboardButton(text=\"2️⃣\")\n",
        ")\n",
        "# второй ряд кнопок\n",
        "main_menu_reply_markup.row(\n",
        "    types.KeyboardButton(text=\"5️⃣\"), types.KeyboardButton(text=\"🔟\")\n",
        ")\n",
        "\n",
        "# обработчик команды '/start'\n",
        "@bot.message_handler(commands=['start'])\n",
        "def start_message_handler(message: types.Message):\n",
        "    # отправляем ответ на команду '/start'\n",
        "    # не забываем прикрепить объект клавиатуры к сообщению\n",
        "    bot.send_message(\n",
        "        chat_id=message.chat.id,\n",
        "        text=\"Привет!\\nЭто бот для генерации тестовых пользователей. \"\\\n",
        "        \"Выбери сколько пользователей тебе нужно 👇🏻\",\n",
        "        reply_markup=main_menu_reply_markup\n",
        "    )\n",
        "\n",
        "\n",
        "# обработчик всех остальных сообщений\n",
        "@bot.message_handler()\n",
        "def message_handler(message: types.Message):\n",
        "    # определяем количество тестовых пользователей\n",
        "    # или отправляем ошибку\n",
        "    payload_len = 0\n",
        "    if message.text == \"1️⃣\":\n",
        "        payload_len = 1\n",
        "    elif message.text == \"2️⃣\":\n",
        "        payload_len = 2\n",
        "    elif message.text == \"5️⃣\":\n",
        "        payload_len = 5\n",
        "    elif message.text == \"🔟\":\n",
        "        payload_len = 10\n",
        "    else:\n",
        "        bot.send_message(chat_id=message.chat.id, text=\"Не понимаю тебя :(\")\n",
        "        return\n",
        "\n",
        "    # генерируем тестовые данные для выбранного количества пользователей\n",
        "    # при помощи метода simple_profile\n",
        "    total_payload = []\n",
        "    for _ in range(payload_len):\n",
        "        user_info = faker.simple_profile()\n",
        "        user_info['phone'] = f'+7{faker.msisdn()[3:]}'\n",
        "        # при помощи библиотеки secrets генерируем пароль\n",
        "        user_info['password'] = token_urlsafe(10)\n",
        "        total_payload.append(user_info)\n",
        "\n",
        "    # сериализуем данные в строку\n",
        "    payload_str = json.dumps(\n",
        "        obj=total_payload,\n",
        "        indent=2,\n",
        "        sort_keys=True,\n",
        "        ensure_ascii=False,\n",
        "        default=str\n",
        "    )\n",
        "\n",
        "    # отправляем результат\n",
        "    bot.send_message(\n",
        "        chat_id=message.chat.id,\n",
        "        text=f\"Данные {payload_len} тестовых пользователей:\\n<code>\"\\\n",
        "        f\"{payload_str}</code>\"\n",
        "    )\n",
        "    bot.send_message(\n",
        "        chat_id=message.chat.id,\n",
        "        text=\"Если нужны еще данные, можешь выбрать еще раз 👇🏻\",\n",
        "        reply_markup=main_menu_reply_markup\n",
        "    )\n",
        "\n",
        "\n",
        "# главная функция программы\n",
        "def main():\n",
        "    # запускаем нашего бота\n",
        "    bot.infinity_polling()\n",
        "\n",
        "\n",
        "if __name__ == '__main__':\n",
        "    main()\n"
      ],
      "metadata": {
        "id": "feHjRcGCRhH1"
      },
      "execution_count": null,
      "outputs": []
    }
  ]
}